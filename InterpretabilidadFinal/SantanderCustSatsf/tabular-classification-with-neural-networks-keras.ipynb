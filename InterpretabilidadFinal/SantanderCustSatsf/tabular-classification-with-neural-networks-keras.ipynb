{
 "cells": [
  {
   "cell_type": "markdown",
   "id": "7d501d10",
   "metadata": {
    "_cell_guid": "b1076dfc-b9ad-4769-8c92-a6c4dae69d19",
    "_uuid": "8f2839f25d086af736a60e9eeb907d3b93b6e0e5",
    "papermill": {
     "duration": 0.023482,
     "end_time": "2021-10-07T06:29:24.114151",
     "exception": false,
     "start_time": "2021-10-07T06:29:24.090669",
     "status": "completed"
    },
    "tags": []
   },
   "source": [
    "# Tabular binary classification with neural networks: keras\n",
    "Here we create a fully-connected artificial neural network based on the kaggle [\"Intro to Deep Learning\"](https://www.kaggle.com/learn/intro-to-deep-learning) course written by [Ryan Holbrook](https://www.kaggle.com/ryanholbrook). We shall be using [Keras](https://keras.io/), the python deep learning API.\n",
    "For our data we shall be using the [Santander Customer Satisfaction](https://www.kaggle.com/c/santander-customer-satisfaction) dataset."
   ]
  },
  {
   "cell_type": "code",
   "execution_count": 1,
   "id": "cfe90817",
   "metadata": {
    "execution": {
     "iopub.execute_input": "2021-10-07T06:29:24.162308Z",
     "iopub.status.busy": "2021-10-07T06:29:24.161272Z",
     "iopub.status.idle": "2021-10-07T06:29:29.662821Z",
     "shell.execute_reply": "2021-10-07T06:29:29.663325Z",
     "shell.execute_reply.started": "2021-10-04T07:09:27.915401Z"
    },
    "papermill": {
     "duration": 5.52693,
     "end_time": "2021-10-07T06:29:29.663635",
     "exception": false,
     "start_time": "2021-10-07T06:29:24.136705",
     "status": "completed"
    },
    "tags": []
   },
   "outputs": [],
   "source": [
    "import pandas as pd\n",
    "pd.set_option('display.max_rows', None)\n",
    "import numpy  as np\n",
    "from tensorflow import keras\n",
    "import matplotlib.pyplot as plt"
   ]
  },
  {
   "cell_type": "code",
   "execution_count": 2,
   "id": "44ec02c9",
   "metadata": {
    "execution": {
     "iopub.execute_input": "2021-10-07T06:29:29.712226Z",
     "iopub.status.busy": "2021-10-07T06:29:29.711486Z",
     "iopub.status.idle": "2021-10-07T06:29:34.798464Z",
     "shell.execute_reply": "2021-10-07T06:29:34.797889Z",
     "shell.execute_reply.started": "2021-10-04T07:09:34.068188Z"
    },
    "papermill": {
     "duration": 5.11224,
     "end_time": "2021-10-07T06:29:34.798636",
     "exception": false,
     "start_time": "2021-10-07T06:29:29.686396",
     "status": "completed"
    },
    "tags": []
   },
   "outputs": [],
   "source": [
    "# Read in the csv data using pandas \n",
    "train  = pd.read_csv('../input/santander-customer-satisfaction/train.csv',index_col=0)\n",
    "test   = pd.read_csv('../input/santander-customer-satisfaction/test.csv', index_col=0)\n",
    "sample = pd.read_csv('../input/santander-customer-satisfaction/sample_submission.csv')"
   ]
  },
  {
   "cell_type": "markdown",
   "id": "d783a580",
   "metadata": {
    "papermill": {
     "duration": 0.021846,
     "end_time": "2021-10-07T06:29:34.843044",
     "exception": false,
     "start_time": "2021-10-07T06:29:34.821198",
     "status": "completed"
    },
    "tags": []
   },
   "source": [
    "The first thing we shall do is take a look at what types of data we have to train with. Categorical features can be handled via [embedding](https://www.fast.ai/2018/04/29/categorical-embeddings/)."
   ]
  },
  {
   "cell_type": "code",
   "execution_count": 3,
   "id": "2419ac09",
   "metadata": {
    "execution": {
     "iopub.execute_input": "2021-10-07T06:29:34.894739Z",
     "iopub.status.busy": "2021-10-07T06:29:34.894030Z",
     "iopub.status.idle": "2021-10-07T06:29:34.903524Z",
     "shell.execute_reply": "2021-10-07T06:29:34.902979Z",
     "shell.execute_reply.started": "2021-10-04T07:09:40.015966Z"
    },
    "papermill": {
     "duration": 0.038566,
     "end_time": "2021-10-07T06:29:34.903674",
     "exception": false,
     "start_time": "2021-10-07T06:29:34.865108",
     "status": "completed"
    },
    "tags": []
   },
   "outputs": [
    {
     "data": {
      "text/plain": [
       "int64      259\n",
       "float64    111\n",
       "dtype: int64"
      ]
     },
     "execution_count": 3,
     "metadata": {},
     "output_type": "execute_result"
    }
   ],
   "source": [
    "train.dtypes.value_counts()"
   ]
  },
  {
   "cell_type": "markdown",
   "id": "2577ebd6",
   "metadata": {
    "papermill": {
     "duration": 0.022424,
     "end_time": "2021-10-07T06:29:34.950201",
     "exception": false,
     "start_time": "2021-10-07T06:29:34.927777",
     "status": "completed"
    },
    "tags": []
   },
   "source": [
    "we have no strings, so we shall not be using the aforementioned embedding. However, we do have a large number of integer columns. Let us take a look at how many different values each of these integer columns have (this is a long list, so it has been hidden. Click on \"Show hidden\" to take a look)"
   ]
  },
  {
   "cell_type": "code",
   "execution_count": 4,
   "id": "9930948a",
   "metadata": {
    "_kg_hide-output": true,
    "execution": {
     "iopub.execute_input": "2021-10-07T06:29:35.065978Z",
     "iopub.status.busy": "2021-10-07T06:29:35.065304Z",
     "iopub.status.idle": "2021-10-07T06:29:35.332195Z",
     "shell.execute_reply": "2021-10-07T06:29:35.331658Z",
     "shell.execute_reply.started": "2021-10-04T07:09:40.033123Z"
    },
    "papermill": {
     "duration": 0.359687,
     "end_time": "2021-10-07T06:29:35.332329",
     "exception": false,
     "start_time": "2021-10-07T06:29:34.972642",
     "status": "completed"
    },
    "tags": []
   },
   "outputs": [
    {
     "data": {
      "text/plain": [
       "var3                             208\n",
       "var15                            100\n",
       "ind_var1_0                         2\n",
       "ind_var1                           2\n",
       "ind_var2_0                         1\n",
       "ind_var2                           1\n",
       "ind_var5_0                         2\n",
       "ind_var5                           2\n",
       "ind_var6_0                         2\n",
       "ind_var6                           2\n",
       "ind_var8_0                         2\n",
       "ind_var8                           2\n",
       "ind_var12_0                        2\n",
       "ind_var12                          2\n",
       "ind_var13_0                        2\n",
       "ind_var13_corto_0                  2\n",
       "ind_var13_corto                    2\n",
       "ind_var13_largo_0                  2\n",
       "ind_var13_largo                    2\n",
       "ind_var13_medio_0                  2\n",
       "ind_var13_medio                    2\n",
       "ind_var13                          2\n",
       "ind_var14_0                        2\n",
       "ind_var14                          2\n",
       "ind_var17_0                        2\n",
       "ind_var17                          2\n",
       "ind_var18_0                        2\n",
       "ind_var18                          2\n",
       "ind_var19                          2\n",
       "ind_var20_0                        2\n",
       "ind_var20                          2\n",
       "ind_var24_0                        2\n",
       "ind_var24                          2\n",
       "ind_var25_cte                      2\n",
       "ind_var26_0                        2\n",
       "ind_var26_cte                      2\n",
       "ind_var26                          2\n",
       "ind_var25_0                        2\n",
       "ind_var25                          2\n",
       "ind_var27_0                        1\n",
       "ind_var28_0                        1\n",
       "ind_var28                          1\n",
       "ind_var27                          1\n",
       "ind_var29_0                        2\n",
       "ind_var29                          2\n",
       "ind_var30_0                        2\n",
       "ind_var30                          2\n",
       "ind_var31_0                        2\n",
       "ind_var31                          2\n",
       "ind_var32_cte                      2\n",
       "ind_var32_0                        2\n",
       "ind_var32                          2\n",
       "ind_var33_0                        2\n",
       "ind_var33                          2\n",
       "ind_var34_0                        2\n",
       "ind_var34                          2\n",
       "ind_var37_cte                      2\n",
       "ind_var37_0                        2\n",
       "ind_var37                          2\n",
       "ind_var39_0                        2\n",
       "ind_var40_0                        2\n",
       "ind_var40                          2\n",
       "ind_var41_0                        2\n",
       "ind_var41                          1\n",
       "ind_var39                          2\n",
       "ind_var44_0                        2\n",
       "ind_var44                          2\n",
       "ind_var46_0                        1\n",
       "ind_var46                          1\n",
       "num_var1_0                         3\n",
       "num_var1                           3\n",
       "num_var4                           8\n",
       "num_var5_0                         5\n",
       "num_var5                           5\n",
       "num_var6_0                         2\n",
       "num_var6                           2\n",
       "num_var8_0                         3\n",
       "num_var8                           2\n",
       "num_var12_0                        6\n",
       "num_var12                          4\n",
       "num_var13_0                        7\n",
       "num_var13_corto_0                  3\n",
       "num_var13_corto                    3\n",
       "num_var13_largo_0                  7\n",
       "num_var13_largo                    7\n",
       "num_var13_medio_0                  2\n",
       "num_var13_medio                    2\n",
       "num_var13                          7\n",
       "num_var14_0                        5\n",
       "num_var14                          4\n",
       "num_var17_0                       11\n",
       "num_var17                          9\n",
       "num_var18_0                        2\n",
       "num_var18                          2\n",
       "num_var20_0                        2\n",
       "num_var20                          2\n",
       "num_var24_0                        4\n",
       "num_var24                          3\n",
       "num_var26_0                        9\n",
       "num_var26                          9\n",
       "num_var25_0                        9\n",
       "num_var25                          9\n",
       "num_op_var40_hace2                19\n",
       "num_op_var40_hace3                 5\n",
       "num_op_var40_ult1                 30\n",
       "num_op_var40_ult3                 35\n",
       "num_op_var41_hace2                51\n",
       "num_op_var41_hace3                22\n",
       "num_op_var41_ult1                 68\n",
       "num_op_var41_ult3                 96\n",
       "num_op_var39_hace2                50\n",
       "num_op_var39_hace3                22\n",
       "num_op_var39_ult1                 71\n",
       "num_op_var39_ult3                 99\n",
       "num_var27_0                        1\n",
       "num_var28_0                        1\n",
       "num_var28                          1\n",
       "num_var27                          1\n",
       "num_var29_0                        2\n",
       "num_var29                          2\n",
       "num_var30_0                       11\n",
       "num_var30                          9\n",
       "num_var31_0                       11\n",
       "num_var31                          9\n",
       "num_var32_0                        5\n",
       "num_var32                          5\n",
       "num_var33_0                        4\n",
       "num_var33                          3\n",
       "num_var34_0                        2\n",
       "num_var34                          2\n",
       "num_var35                         13\n",
       "num_var37_med_ult2                21\n",
       "num_var37_0                       22\n",
       "num_var37                         22\n",
       "num_var39_0                        9\n",
       "num_var40_0                        3\n",
       "num_var40                          2\n",
       "num_var41_0                        9\n",
       "num_var41                          1\n",
       "num_var39                          2\n",
       "num_var42_0                        8\n",
       "num_var42                          7\n",
       "num_var44_0                        3\n",
       "num_var44                          2\n",
       "num_var46_0                        1\n",
       "num_var46                          1\n",
       "saldo_var13_medio                  3\n",
       "saldo_var18                        3\n",
       "saldo_var28                        1\n",
       "saldo_var27                        1\n",
       "saldo_var34                        3\n",
       "saldo_var41                        1\n",
       "saldo_var46                        1\n",
       "var36                              5\n",
       "delta_imp_amort_var18_1y3          2\n",
       "delta_imp_amort_var34_1y3          2\n",
       "delta_imp_reemb_var13_1y3          2\n",
       "delta_imp_reemb_var17_1y3          3\n",
       "delta_imp_reemb_var33_1y3          2\n",
       "delta_imp_trasp_var17_in_1y3       3\n",
       "delta_imp_trasp_var17_out_1y3      2\n",
       "delta_imp_trasp_var33_in_1y3       3\n",
       "delta_imp_trasp_var33_out_1y3      2\n",
       "delta_num_reemb_var13_1y3          2\n",
       "delta_num_reemb_var17_1y3          3\n",
       "delta_num_reemb_var33_1y3          2\n",
       "delta_num_trasp_var17_in_1y3       3\n",
       "delta_num_trasp_var17_out_1y3      2\n",
       "delta_num_trasp_var33_in_1y3       3\n",
       "delta_num_trasp_var33_out_1y3      2\n",
       "imp_amort_var18_hace3              1\n",
       "imp_amort_var34_hace3              1\n",
       "imp_aport_var33_hace3             16\n",
       "imp_aport_var33_ult1               6\n",
       "imp_reemb_var13_hace3              1\n",
       "imp_reemb_var33_hace3              1\n",
       "imp_reemb_var33_ult1               2\n",
       "imp_trasp_var17_out_hace3          1\n",
       "imp_trasp_var33_out_hace3          1\n",
       "imp_trasp_var33_out_ult1           2\n",
       "ind_var7_emit_ult1                 2\n",
       "ind_var7_recib_ult1                2\n",
       "ind_var10_ult1                     2\n",
       "ind_var10cte_ult1                  2\n",
       "ind_var9_cte_ult1                  2\n",
       "ind_var9_ult1                      2\n",
       "ind_var43_emit_ult1                2\n",
       "ind_var43_recib_ult1               2\n",
       "var21                             24\n",
       "num_var2_0_ult1                    1\n",
       "num_var2_ult1                      1\n",
       "num_aport_var13_hace3              8\n",
       "num_aport_var13_ult1               7\n",
       "num_aport_var17_hace3              5\n",
       "num_aport_var17_ult1               8\n",
       "num_aport_var33_hace3              4\n",
       "num_aport_var33_ult1               3\n",
       "num_var7_emit_ult1                 2\n",
       "num_var7_recib_ult1                6\n",
       "num_compra_var44_hace3             4\n",
       "num_compra_var44_ult1             10\n",
       "num_ent_var16_ult1                13\n",
       "num_var22_hace2                   22\n",
       "num_var22_hace3                   19\n",
       "num_var22_ult1                    18\n",
       "num_var22_ult3                    33\n",
       "num_med_var22_ult3                15\n",
       "num_med_var45_ult3                71\n",
       "num_meses_var5_ult3                4\n",
       "num_meses_var8_ult3                4\n",
       "num_meses_var12_ult3               4\n",
       "num_meses_var13_corto_ult3         4\n",
       "num_meses_var13_largo_ult3         4\n",
       "num_meses_var13_medio_ult3         2\n",
       "num_meses_var17_ult3               4\n",
       "num_meses_var29_ult3               3\n",
       "num_meses_var33_ult3               4\n",
       "num_meses_var39_vig_ult3           4\n",
       "num_meses_var44_ult3               4\n",
       "num_op_var39_comer_ult1           63\n",
       "num_op_var39_comer_ult3           92\n",
       "num_op_var40_comer_ult1           34\n",
       "num_op_var40_comer_ult3           47\n",
       "num_op_var40_efect_ult1            7\n",
       "num_op_var40_efect_ult3            9\n",
       "num_op_var41_comer_ult1           60\n",
       "num_op_var41_comer_ult3           88\n",
       "num_op_var41_efect_ult1           25\n",
       "num_op_var41_efect_ult3           40\n",
       "num_op_var39_efect_ult1           26\n",
       "num_op_var39_efect_ult3           40\n",
       "num_reemb_var13_hace3              1\n",
       "num_reemb_var13_ult1               2\n",
       "num_reemb_var17_hace3              2\n",
       "num_reemb_var17_ult1               5\n",
       "num_reemb_var33_hace3              1\n",
       "num_reemb_var33_ult1               2\n",
       "num_sal_var16_ult1                 6\n",
       "num_var43_emit_ult1               27\n",
       "num_var43_recib_ult1              38\n",
       "num_trasp_var11_ult1              18\n",
       "num_trasp_var17_in_hace3           3\n",
       "num_trasp_var17_in_ult1            2\n",
       "num_trasp_var17_out_hace3          1\n",
       "num_trasp_var17_out_ult1           2\n",
       "num_trasp_var33_in_hace3           2\n",
       "num_trasp_var33_in_ult1            3\n",
       "num_trasp_var33_out_hace3          1\n",
       "num_trasp_var33_out_ult1           2\n",
       "num_venta_var44_hace3              3\n",
       "num_venta_var44_ult1               9\n",
       "num_var45_hace2                   85\n",
       "num_var45_hace3                   66\n",
       "num_var45_ult1                    94\n",
       "num_var45_ult3                   172\n",
       "saldo_var2_ult1                    1\n",
       "saldo_medio_var13_medio_hace3      1\n",
       "saldo_medio_var13_medio_ult1       3\n",
       "TARGET                             2\n",
       "dtype: int64"
      ]
     },
     "execution_count": 4,
     "metadata": {},
     "output_type": "execute_result"
    }
   ],
   "source": [
    "train.select_dtypes(include=['int64']).nunique()"
   ]
  },
  {
   "cell_type": "markdown",
   "id": "49400cbf",
   "metadata": {
    "papermill": {
     "duration": 0.024473,
     "end_time": "2021-10-07T06:29:35.380970",
     "exception": false,
     "start_time": "2021-10-07T06:29:35.356497",
     "status": "completed"
    },
    "tags": []
   },
   "source": [
    "we can see that a good many of the integer features have one single value. Such columns have zero variance and thus have no predictive value, so we shall drop these columns from the train, as well as the test data to maintain consistency"
   ]
  },
  {
   "cell_type": "code",
   "execution_count": 5,
   "id": "362e5f44",
   "metadata": {
    "execution": {
     "iopub.execute_input": "2021-10-07T06:29:35.433054Z",
     "iopub.status.busy": "2021-10-07T06:29:35.432455Z",
     "iopub.status.idle": "2021-10-07T06:29:35.933288Z",
     "shell.execute_reply": "2021-10-07T06:29:35.933735Z",
     "shell.execute_reply.started": "2021-10-04T07:09:40.383672Z"
    },
    "papermill": {
     "duration": 0.529918,
     "end_time": "2021-10-07T06:29:35.933920",
     "exception": false,
     "start_time": "2021-10-07T06:29:35.404002",
     "status": "completed"
    },
    "tags": []
   },
   "outputs": [],
   "source": [
    "features_to_drop = train.nunique()\n",
    "features_to_drop = features_to_drop.loc[features_to_drop.values==1].index\n",
    "# now drop these columns from both the training and the test datasets\n",
    "train = train.drop(features_to_drop,axis=1)\n",
    "test  = test.drop(features_to_drop,axis=1)"
   ]
  },
  {
   "cell_type": "markdown",
   "id": "e6dd0c7c",
   "metadata": {
    "papermill": {
     "duration": 0.022461,
     "end_time": "2021-10-07T06:29:35.979296",
     "exception": false,
     "start_time": "2021-10-07T06:29:35.956835",
     "status": "completed"
    },
    "tags": []
   },
   "source": [
    "Now let us check for any missing values, as these do not sit well with neural networks"
   ]
  },
  {
   "cell_type": "code",
   "execution_count": 6,
   "id": "c2ec2fe1",
   "metadata": {
    "execution": {
     "iopub.execute_input": "2021-10-07T06:29:36.029472Z",
     "iopub.status.busy": "2021-10-07T06:29:36.028806Z",
     "iopub.status.idle": "2021-10-07T06:29:36.057543Z",
     "shell.execute_reply": "2021-10-07T06:29:36.056874Z",
     "shell.execute_reply.started": "2021-10-04T07:09:40.90202Z"
    },
    "papermill": {
     "duration": 0.055432,
     "end_time": "2021-10-07T06:29:36.057679",
     "exception": false,
     "start_time": "2021-10-07T06:29:36.002247",
     "status": "completed"
    },
    "tags": []
   },
   "outputs": [
    {
     "data": {
      "text/plain": [
       "False"
      ]
     },
     "execution_count": 6,
     "metadata": {},
     "output_type": "execute_result"
    }
   ],
   "source": [
    "train.isnull().values.any()"
   ]
  },
  {
   "cell_type": "markdown",
   "id": "5aacf169",
   "metadata": {
    "papermill": {
     "duration": 0.02357,
     "end_time": "2021-10-07T06:29:36.104780",
     "exception": false,
     "start_time": "2021-10-07T06:29:36.081210",
     "status": "completed"
    },
    "tags": []
   },
   "source": [
    "wonderful, there are no missing values at all. Now let us divide the training data into the features and the target"
   ]
  },
  {
   "cell_type": "code",
   "execution_count": 7,
   "id": "ab60337e",
   "metadata": {
    "execution": {
     "iopub.execute_input": "2021-10-07T06:29:36.219607Z",
     "iopub.status.busy": "2021-10-07T06:29:36.218998Z",
     "iopub.status.idle": "2021-10-07T06:29:36.222053Z",
     "shell.execute_reply": "2021-10-07T06:29:36.221624Z",
     "shell.execute_reply.started": "2021-10-04T07:09:40.935569Z"
    },
    "papermill": {
     "duration": 0.094094,
     "end_time": "2021-10-07T06:29:36.222186",
     "exception": false,
     "start_time": "2021-10-07T06:29:36.128092",
     "status": "completed"
    },
    "tags": []
   },
   "outputs": [],
   "source": [
    "X = train.iloc[:,:-1]\n",
    "y = train['TARGET']"
   ]
  },
  {
   "cell_type": "markdown",
   "id": "3bc86c82",
   "metadata": {
    "papermill": {
     "duration": 0.023228,
     "end_time": "2021-10-07T06:29:36.269103",
     "exception": false,
     "start_time": "2021-10-07T06:29:36.245875",
     "status": "completed"
    },
    "tags": []
   },
   "source": [
    "Check to see whether the data is [highly imbalanced or not](https://www.kaggle.com/carlmcbrideellis/classification-how-imbalanced-is-imbalanced)"
   ]
  },
  {
   "cell_type": "code",
   "execution_count": 8,
   "id": "390e787e",
   "metadata": {
    "execution": {
     "iopub.execute_input": "2021-10-07T06:29:36.320032Z",
     "iopub.status.busy": "2021-10-07T06:29:36.319407Z",
     "iopub.status.idle": "2021-10-07T06:29:36.331809Z",
     "shell.execute_reply": "2021-10-07T06:29:36.332207Z",
     "shell.execute_reply.started": "2021-10-04T07:09:41.009533Z"
    },
    "papermill": {
     "duration": 0.039841,
     "end_time": "2021-10-07T06:29:36.332370",
     "exception": false,
     "start_time": "2021-10-07T06:29:36.292529",
     "status": "completed"
    },
    "tags": []
   },
   "outputs": [
    {
     "data": {
      "text/html": [
       "<div>\n",
       "<style scoped>\n",
       "    .dataframe tbody tr th:only-of-type {\n",
       "        vertical-align: middle;\n",
       "    }\n",
       "\n",
       "    .dataframe tbody tr th {\n",
       "        vertical-align: top;\n",
       "    }\n",
       "\n",
       "    .dataframe thead th {\n",
       "        text-align: right;\n",
       "    }\n",
       "</style>\n",
       "<table border=\"1\" class=\"dataframe\">\n",
       "  <thead>\n",
       "    <tr style=\"text-align: right;\">\n",
       "      <th></th>\n",
       "      <th>0</th>\n",
       "      <th>1</th>\n",
       "    </tr>\n",
       "  </thead>\n",
       "  <tbody>\n",
       "    <tr>\n",
       "      <th>TARGET</th>\n",
       "      <td>73012</td>\n",
       "      <td>3008</td>\n",
       "    </tr>\n",
       "  </tbody>\n",
       "</table>\n",
       "</div>"
      ],
      "text/plain": [
       "            0     1\n",
       "TARGET  73012  3008"
      ]
     },
     "execution_count": 8,
     "metadata": {},
     "output_type": "execute_result"
    }
   ],
   "source": [
    "y.value_counts().to_frame().T"
   ]
  },
  {
   "cell_type": "markdown",
   "id": "0c1e56e2",
   "metadata": {
    "papermill": {
     "duration": 0.023013,
     "end_time": "2021-10-07T06:29:36.378907",
     "exception": false,
     "start_time": "2021-10-07T06:29:36.355894",
     "status": "completed"
    },
    "tags": []
   },
   "source": [
    "indeed there is a large class imbalance, in view of this we shall resample the minority class using [SMOTE](https://imbalanced-learn.org/stable/references/generated/imblearn.over_sampling.SMOTE.html) (Synthetic Minority Over-sampling Technique) from the [imbalanced-learn](https://imbalanced-learn.org/stable/) library"
   ]
  },
  {
   "cell_type": "code",
   "execution_count": 9,
   "id": "6d716050",
   "metadata": {
    "execution": {
     "iopub.execute_input": "2021-10-07T06:29:36.429156Z",
     "iopub.status.busy": "2021-10-07T06:29:36.428288Z",
     "iopub.status.idle": "2021-10-07T06:29:42.550741Z",
     "shell.execute_reply": "2021-10-07T06:29:42.550114Z",
     "shell.execute_reply.started": "2021-10-04T07:09:41.033303Z"
    },
    "papermill": {
     "duration": 6.148541,
     "end_time": "2021-10-07T06:29:42.550919",
     "exception": false,
     "start_time": "2021-10-07T06:29:36.402378",
     "status": "completed"
    },
    "tags": []
   },
   "outputs": [],
   "source": [
    "from imblearn.over_sampling import SMOTE\n",
    "X_resampled, y_resampled = SMOTE().fit_resample(X, y)"
   ]
  },
  {
   "cell_type": "markdown",
   "id": "5124a642",
   "metadata": {
    "papermill": {
     "duration": 0.02464,
     "end_time": "2021-10-07T06:29:42.600793",
     "exception": false,
     "start_time": "2021-10-07T06:29:42.576153",
     "status": "completed"
    },
    "tags": []
   },
   "source": [
    "let us take a look"
   ]
  },
  {
   "cell_type": "code",
   "execution_count": 10,
   "id": "e0ad6c8e",
   "metadata": {
    "execution": {
     "iopub.execute_input": "2021-10-07T06:29:42.654584Z",
     "iopub.status.busy": "2021-10-07T06:29:42.653914Z",
     "iopub.status.idle": "2021-10-07T06:29:42.663209Z",
     "shell.execute_reply": "2021-10-07T06:29:42.663640Z",
     "shell.execute_reply.started": "2021-10-04T07:09:47.453545Z"
    },
    "papermill": {
     "duration": 0.038094,
     "end_time": "2021-10-07T06:29:42.663815",
     "exception": false,
     "start_time": "2021-10-07T06:29:42.625721",
     "status": "completed"
    },
    "tags": []
   },
   "outputs": [
    {
     "data": {
      "text/html": [
       "<div>\n",
       "<style scoped>\n",
       "    .dataframe tbody tr th:only-of-type {\n",
       "        vertical-align: middle;\n",
       "    }\n",
       "\n",
       "    .dataframe tbody tr th {\n",
       "        vertical-align: top;\n",
       "    }\n",
       "\n",
       "    .dataframe thead th {\n",
       "        text-align: right;\n",
       "    }\n",
       "</style>\n",
       "<table border=\"1\" class=\"dataframe\">\n",
       "  <thead>\n",
       "    <tr style=\"text-align: right;\">\n",
       "      <th></th>\n",
       "      <th>0</th>\n",
       "      <th>1</th>\n",
       "    </tr>\n",
       "  </thead>\n",
       "  <tbody>\n",
       "    <tr>\n",
       "      <th>TARGET</th>\n",
       "      <td>73012</td>\n",
       "      <td>73012</td>\n",
       "    </tr>\n",
       "  </tbody>\n",
       "</table>\n",
       "</div>"
      ],
      "text/plain": [
       "            0      1\n",
       "TARGET  73012  73012"
      ]
     },
     "execution_count": 10,
     "metadata": {},
     "output_type": "execute_result"
    }
   ],
   "source": [
    "y_resampled.value_counts().to_frame().T"
   ]
  },
  {
   "cell_type": "markdown",
   "id": "f5867532",
   "metadata": {
    "papermill": {
     "duration": 0.023957,
     "end_time": "2021-10-07T06:29:42.711925",
     "exception": false,
     "start_time": "2021-10-07T06:29:42.687968",
     "status": "completed"
    },
    "tags": []
   },
   "source": [
    "much better. \n",
    "\n",
    "As this is a large dataset we shall only use 50% of the data for training, and 20% for validation"
   ]
  },
  {
   "cell_type": "code",
   "execution_count": 11,
   "id": "ccabd822",
   "metadata": {
    "execution": {
     "iopub.execute_input": "2021-10-07T06:29:42.771206Z",
     "iopub.status.busy": "2021-10-07T06:29:42.770628Z",
     "iopub.status.idle": "2021-10-07T06:29:43.098474Z",
     "shell.execute_reply": "2021-10-07T06:29:43.097887Z",
     "shell.execute_reply.started": "2021-10-04T07:09:47.468302Z"
    },
    "papermill": {
     "duration": 0.359795,
     "end_time": "2021-10-07T06:29:43.098628",
     "exception": false,
     "start_time": "2021-10-07T06:29:42.738833",
     "status": "completed"
    },
    "tags": []
   },
   "outputs": [],
   "source": [
    "from sklearn.model_selection import train_test_split\n",
    "X_train, X_val, y_train, y_val = train_test_split(X_resampled, y_resampled, \n",
    "                                                  train_size=0.5,\n",
    "                                                  test_size=0.2, \n",
    "                                                  random_state=42, \n",
    "                                                  shuffle=True)"
   ]
  },
  {
   "cell_type": "markdown",
   "id": "52053fc5",
   "metadata": {
    "papermill": {
     "duration": 0.023426,
     "end_time": "2021-10-07T06:29:43.146254",
     "exception": false,
     "start_time": "2021-10-07T06:29:43.122828",
     "status": "completed"
    },
    "tags": []
   },
   "source": [
    "also, neural networks like to have data all in the same range, for example [0,1] to improve stability. We shall do this using the [MinMaxScaler](https://scikit-learn.org/stable/modules/generated/sklearn.preprocessing.MinMaxScaler.html)\n",
    "Note: One should really remove any outliers before doing this as a single outlier can have a large influence on the results"
   ]
  },
  {
   "cell_type": "code",
   "execution_count": 12,
   "id": "83367acb",
   "metadata": {
    "execution": {
     "iopub.execute_input": "2021-10-07T06:29:43.204033Z",
     "iopub.status.busy": "2021-10-07T06:29:43.202591Z",
     "iopub.status.idle": "2021-10-07T06:29:43.804488Z",
     "shell.execute_reply": "2021-10-07T06:29:43.803862Z",
     "shell.execute_reply.started": "2021-10-04T07:09:47.814643Z"
    },
    "papermill": {
     "duration": 0.634599,
     "end_time": "2021-10-07T06:29:43.804636",
     "exception": false,
     "start_time": "2021-10-07T06:29:43.170037",
     "status": "completed"
    },
    "tags": []
   },
   "outputs": [],
   "source": [
    "from sklearn.preprocessing import MinMaxScaler\n",
    "scaler  = MinMaxScaler()\n",
    "X_train = scaler.fit_transform(X_train)\n",
    "X_val   = scaler.transform(X_val)\n",
    "test    = scaler.transform(test)"
   ]
  },
  {
   "cell_type": "markdown",
   "id": "42f27461",
   "metadata": {
    "papermill": {
     "duration": 0.024452,
     "end_time": "2021-10-07T06:29:43.853893",
     "exception": false,
     "start_time": "2021-10-07T06:29:43.829441",
     "status": "completed"
    },
    "tags": []
   },
   "source": [
    "We are now ready to create our neural network, note that we insert a [dropout layer](https://keras.io/api/layers/regularization_layers/dropout/) as a form of regularization which will  help reduce overfitting by randomly setting (here 30%) of the input unit values to zero."
   ]
  },
  {
   "cell_type": "code",
   "execution_count": 13,
   "id": "f4444318",
   "metadata": {
    "execution": {
     "iopub.execute_input": "2021-10-07T06:29:43.909862Z",
     "iopub.status.busy": "2021-10-07T06:29:43.909067Z",
     "iopub.status.idle": "2021-10-07T06:29:44.010359Z",
     "shell.execute_reply": "2021-10-07T06:29:44.009763Z",
     "shell.execute_reply.started": "2021-10-04T07:09:48.433685Z"
    },
    "papermill": {
     "duration": 0.131518,
     "end_time": "2021-10-07T06:29:44.010510",
     "exception": false,
     "start_time": "2021-10-07T06:29:43.878992",
     "status": "completed"
    },
    "tags": []
   },
   "outputs": [],
   "source": [
    "model = keras.Sequential(\n",
    "    [\n",
    "        keras.layers.Dense(units=9, activation=\"relu\", input_shape=(X_train.shape[-1],) ),\n",
    "        # randomly delete 30% of the input units below\n",
    "        keras.layers.Dropout(0.3),\n",
    "        keras.layers.Dense(units=9, activation=\"relu\"),\n",
    "        # the output layer, with a single neuron\n",
    "        keras.layers.Dense(units=1, activation=\"sigmoid\"),\n",
    "    ]\n",
    ")\n",
    "\n",
    "# save the initial weights for later\n",
    "initial_weights = model.get_weights()"
   ]
  },
  {
   "cell_type": "markdown",
   "id": "3aaa2d7b",
   "metadata": {
    "papermill": {
     "duration": 0.02552,
     "end_time": "2021-10-07T06:29:44.062576",
     "exception": false,
     "start_time": "2021-10-07T06:29:44.037056",
     "status": "completed"
    },
    "tags": []
   },
   "source": [
    "let us take a look at our model"
   ]
  },
  {
   "cell_type": "code",
   "execution_count": 14,
   "id": "9fe8c444",
   "metadata": {
    "execution": {
     "iopub.execute_input": "2021-10-07T06:29:44.117174Z",
     "iopub.status.busy": "2021-10-07T06:29:44.116476Z",
     "iopub.status.idle": "2021-10-07T06:29:44.121745Z",
     "shell.execute_reply": "2021-10-07T06:29:44.122204Z",
     "shell.execute_reply.started": "2021-10-04T07:09:48.545456Z"
    },
    "papermill": {
     "duration": 0.034,
     "end_time": "2021-10-07T06:29:44.122367",
     "exception": false,
     "start_time": "2021-10-07T06:29:44.088367",
     "status": "completed"
    },
    "tags": []
   },
   "outputs": [
    {
     "name": "stdout",
     "output_type": "stream",
     "text": [
      "Model: \"sequential\"\n",
      "_________________________________________________________________\n",
      "Layer (type)                 Output Shape              Param #   \n",
      "=================================================================\n",
      "dense (Dense)                (None, 9)                 3024      \n",
      "_________________________________________________________________\n",
      "dropout (Dropout)            (None, 9)                 0         \n",
      "_________________________________________________________________\n",
      "dense_1 (Dense)              (None, 9)                 90        \n",
      "_________________________________________________________________\n",
      "dense_2 (Dense)              (None, 1)                 10        \n",
      "=================================================================\n",
      "Total params: 3,124\n",
      "Trainable params: 3,124\n",
      "Non-trainable params: 0\n",
      "_________________________________________________________________\n"
     ]
    }
   ],
   "source": [
    "model.summary()"
   ]
  },
  {
   "cell_type": "markdown",
   "id": "52d1fab1",
   "metadata": {
    "papermill": {
     "duration": 0.024405,
     "end_time": "2021-10-07T06:29:44.171999",
     "exception": false,
     "start_time": "2021-10-07T06:29:44.147594",
     "status": "completed"
    },
    "tags": []
   },
   "source": [
    "or create a more aesthetically pleasing representation via"
   ]
  },
  {
   "cell_type": "code",
   "execution_count": 15,
   "id": "094a7e39",
   "metadata": {
    "execution": {
     "iopub.execute_input": "2021-10-07T06:29:44.226945Z",
     "iopub.status.busy": "2021-10-07T06:29:44.226090Z",
     "iopub.status.idle": "2021-10-07T06:29:44.699849Z",
     "shell.execute_reply": "2021-10-07T06:29:44.700303Z",
     "shell.execute_reply.started": "2021-10-04T07:09:48.556798Z"
    },
    "papermill": {
     "duration": 0.503632,
     "end_time": "2021-10-07T06:29:44.700499",
     "exception": false,
     "start_time": "2021-10-07T06:29:44.196867",
     "status": "completed"
    },
    "tags": []
   },
   "outputs": [
    {
     "data": {
      "image/png": "[encoded data removed]",
      "text/plain": [
       "<IPython.core.display.Image object>"
      ]
     },
     "execution_count": 15,
     "metadata": {},
     "output_type": "execute_result"
    }
   ],
   "source": [
    "keras.utils.plot_model(model, show_shapes=True)"
   ]
  },
  {
   "cell_type": "markdown",
   "id": "ed7e3e70",
   "metadata": {
    "papermill": {
     "duration": 0.025807,
     "end_time": "2021-10-07T06:29:44.752907",
     "exception": false,
     "start_time": "2021-10-07T06:29:44.727100",
     "status": "completed"
    },
    "tags": []
   },
   "source": [
    "We shall use the [Adam](https://keras.io/api/optimizers/adam/) (Adaptive Moment Estimation) optimizer, a form of [Stochastic gradient descent](https://en.wikipedia.org/wiki/Stochastic_gradient_descent) (SGD). For more on the subject see the review [\"*An overview of gradient descent optimization algorithms*\"](https://arxiv.org/pdf/1609.04747.pdf), written by Sebastian Ruder.\n",
    "As our problem is binary classification our [loss function](https://en.wikipedia.org/wiki/Loss_function) will be the [binary cross entropy](https://keras.io/api/losses/probabilistic_losses/). Finally, as per the [competition evaluation criteria](https://www.kaggle.com/c/santander-customer-satisfaction/overview/evaluation), we shall calculate the area under the curve (AUC) of the [ROC](https://en.wikipedia.org/wiki/Receiver_operating_characteristic)."
   ]
  },
  {
   "cell_type": "code",
   "execution_count": 16,
   "id": "f87ffdaa",
   "metadata": {
    "execution": {
     "iopub.execute_input": "2021-10-07T06:29:44.814364Z",
     "iopub.status.busy": "2021-10-07T06:29:44.813668Z",
     "iopub.status.idle": "2021-10-07T06:29:44.834402Z",
     "shell.execute_reply": "2021-10-07T06:29:44.833843Z",
     "shell.execute_reply.started": "2021-10-04T07:09:49.009955Z"
    },
    "papermill": {
     "duration": 0.055558,
     "end_time": "2021-10-07T06:29:44.834573",
     "exception": false,
     "start_time": "2021-10-07T06:29:44.779015",
     "status": "completed"
    },
    "tags": []
   },
   "outputs": [],
   "source": [
    "learning_rate = 0.001\n",
    "\n",
    "model.compile(optimizer=keras.optimizers.Adam(learning_rate=learning_rate), \n",
    "              loss=\"binary_crossentropy\", \n",
    "              metrics=keras.metrics.AUC()\n",
    "             )"
   ]
  },
  {
   "cell_type": "markdown",
   "id": "0d2a06c7",
   "metadata": {
    "papermill": {
     "duration": 0.025832,
     "end_time": "2021-10-07T06:29:44.887651",
     "exception": false,
     "start_time": "2021-10-07T06:29:44.861819",
     "status": "completed"
    },
    "tags": []
   },
   "source": [
    "we shall now train the model, providing 1000 rows of training data at a  time (`batch_size`), the whole process repeated 500 times (these are the `epochs`).\n",
    "If the `batch_size` is  large, it will take more `epochs` for the neural net to converge. For an interesting article on the subject see [\"*Effect of Batch Size on Neural Net Training*\"](https://medium.com/deep-learning-experiments/effect-of-batch-size-on-neural-net-training-c5ae8516e57)."
   ]
  },
  {
   "cell_type": "code",
   "execution_count": 17,
   "id": "0e55d770",
   "metadata": {
    "execution": {
     "iopub.execute_input": "2021-10-07T06:29:44.945459Z",
     "iopub.status.busy": "2021-10-07T06:29:44.944765Z",
     "iopub.status.idle": "2021-10-07T06:33:10.190069Z",
     "shell.execute_reply": "2021-10-07T06:33:10.190544Z",
     "shell.execute_reply.started": "2021-10-04T07:09:49.042832Z"
    },
    "papermill": {
     "duration": 205.277081,
     "end_time": "2021-10-07T06:33:10.190758",
     "exception": false,
     "start_time": "2021-10-07T06:29:44.913677",
     "status": "completed"
    },
    "tags": []
   },
   "outputs": [],
   "source": [
    "history = model.fit(X_train, y_train, \n",
    "          epochs=500, \n",
    "          batch_size=1000, \n",
    "          validation_data=(X_val, y_val),\n",
    "          verbose=0)"
   ]
  },
  {
   "cell_type": "markdown",
   "id": "920d28dc",
   "metadata": {
    "papermill": {
     "duration": 0.024729,
     "end_time": "2021-10-07T06:33:10.241202",
     "exception": false,
     "start_time": "2021-10-07T06:33:10.216473",
     "status": "completed"
    },
    "tags": []
   },
   "source": [
    "Take a look at how the training went, checking for either [overfitting or underfitting](https://www.kaggle.com/ryanholbrook/overfitting-and-underfitting), by plotting the so-called *learning curves*"
   ]
  },
  {
   "cell_type": "code",
   "execution_count": 18,
   "id": "0df3376f",
   "metadata": {
    "_kg_hide-input": true,
    "execution": {
     "iopub.execute_input": "2021-10-07T06:33:10.295322Z",
     "iopub.status.busy": "2021-10-07T06:33:10.294400Z",
     "iopub.status.idle": "2021-10-07T06:33:10.587731Z",
     "shell.execute_reply": "2021-10-07T06:33:10.588143Z",
     "shell.execute_reply.started": "2021-10-04T07:15:04.00108Z"
    },
    "papermill": {
     "duration": 0.322054,
     "end_time": "2021-10-07T06:33:10.588314",
     "exception": false,
     "start_time": "2021-10-07T06:33:10.266260",
     "status": "completed"
    },
    "tags": []
   },
   "outputs": [
    {
     "data": {
      "image/png": "[encoded data removed]",
      "text/plain": [
       "<Figure size 1008x288 with 2 Axes>"
      ]
     },
     "metadata": {
      "needs_background": "light"
     },
     "output_type": "display_data"
    }
   ],
   "source": [
    "logs = pd.DataFrame(history.history)\n",
    "\n",
    "plt.figure(figsize=(14, 4))\n",
    "plt.subplot(1, 2, 1)\n",
    "plt.plot(logs.loc[5:,\"loss\"], lw=2, label='training loss')\n",
    "plt.plot(logs.loc[5:,\"val_loss\"], lw=2, label='validation loss')\n",
    "plt.xlabel(\"Epoch\")\n",
    "plt.ylabel(\"Loss\")\n",
    "plt.legend()\n",
    "plt.subplot(1, 2, 2)\n",
    "plt.plot(logs.loc[5:,\"auc\"], lw=2, label='training ROC AUC score')\n",
    "plt.plot(logs.loc[5:,\"val_auc\"], lw=2, label='validation ROC AUC score')\n",
    "plt.xlabel(\"Epoch\")\n",
    "plt.ylabel(\"ROC AUC\")\n",
    "plt.legend(loc='lower right')\n",
    "plt.show()"
   ]
  },
  {
   "cell_type": "markdown",
   "id": "f1bd9781",
   "metadata": {
    "papermill": {
     "duration": 0.027706,
     "end_time": "2021-10-07T06:33:10.643352",
     "exception": false,
     "start_time": "2021-10-07T06:33:10.615646",
     "status": "completed"
    },
    "tags": []
   },
   "source": [
    "we can see that towards the end the validation ROC AUC score has leveled off and is not improving. We can also see that despite the validation ROC AUC score stagnating, the training ROC AUC score is still steadily rising; this is an indication that we are overfitting. Ideally we would like to watch out for this and call a halt to the training so as not to waste time and CPU/GPU. To do this we can set up a \"callback\":"
   ]
  },
  {
   "cell_type": "code",
   "execution_count": 19,
   "id": "a9c410f6",
   "metadata": {
    "execution": {
     "iopub.execute_input": "2021-10-07T06:33:10.701511Z",
     "iopub.status.busy": "2021-10-07T06:33:10.700566Z",
     "iopub.status.idle": "2021-10-07T06:33:10.705892Z",
     "shell.execute_reply": "2021-10-07T06:33:10.705284Z",
     "shell.execute_reply.started": "2021-10-04T07:13:41.201128Z"
    },
    "papermill": {
     "duration": 0.035488,
     "end_time": "2021-10-07T06:33:10.706026",
     "exception": false,
     "start_time": "2021-10-07T06:33:10.670538",
     "status": "completed"
    },
    "tags": []
   },
   "outputs": [],
   "source": [
    "from tensorflow.keras.callbacks import EarlyStopping\n",
    "\n",
    "early_stopping = EarlyStopping(\n",
    "    min_delta = 0.0002, # minimium amount of change to count as an improvement\n",
    "    patience  = 20,     # how many epochs to wait before stopping\n",
    "    restore_best_weights=True,\n",
    ")"
   ]
  },
  {
   "cell_type": "markdown",
   "id": "fcb7472b",
   "metadata": {
    "papermill": {
     "duration": 0.02701,
     "end_time": "2021-10-07T06:33:10.760859",
     "exception": false,
     "start_time": "2021-10-07T06:33:10.733849",
     "status": "completed"
    },
    "tags": []
   },
   "source": [
    "Now let us delete our old training and start anew. We do this by restoring the initial weights of our neural network:"
   ]
  },
  {
   "cell_type": "code",
   "execution_count": 20,
   "id": "6167c7fa",
   "metadata": {
    "execution": {
     "iopub.execute_input": "2021-10-07T06:33:10.822073Z",
     "iopub.status.busy": "2021-10-07T06:33:10.821334Z",
     "iopub.status.idle": "2021-10-07T06:33:10.824652Z",
     "shell.execute_reply": "2021-10-07T06:33:10.824144Z",
     "shell.execute_reply.started": "2021-10-04T07:13:41.207557Z"
    },
    "papermill": {
     "duration": 0.03649,
     "end_time": "2021-10-07T06:33:10.824793",
     "exception": false,
     "start_time": "2021-10-07T06:33:10.788303",
     "status": "completed"
    },
    "tags": []
   },
   "outputs": [],
   "source": [
    "model.set_weights(initial_weights)"
   ]
  },
  {
   "cell_type": "code",
   "execution_count": 21,
   "id": "70f06d1b",
   "metadata": {
    "execution": {
     "iopub.execute_input": "2021-10-07T06:33:10.885242Z",
     "iopub.status.busy": "2021-10-07T06:33:10.884592Z",
     "iopub.status.idle": "2021-10-07T06:34:02.230201Z",
     "shell.execute_reply": "2021-10-07T06:34:02.229507Z",
     "shell.execute_reply.started": "2021-10-04T07:13:41.223418Z"
    },
    "papermill": {
     "duration": 51.377377,
     "end_time": "2021-10-07T06:34:02.230345",
     "exception": false,
     "start_time": "2021-10-07T06:33:10.852968",
     "status": "completed"
    },
    "tags": []
   },
   "outputs": [],
   "source": [
    "history = model.fit(X_train, y_train, \n",
    "          epochs=500, \n",
    "          batch_size=1000, \n",
    "          validation_data=(X_val, y_val),\n",
    "          verbose=0,\n",
    "          # add in our early stopping callback\n",
    "          callbacks=[early_stopping]\n",
    "        )"
   ]
  },
  {
   "cell_type": "code",
   "execution_count": 22,
   "id": "116a1d0b",
   "metadata": {
    "_kg_hide-input": true,
    "execution": {
     "iopub.execute_input": "2021-10-07T06:34:02.295909Z",
     "iopub.status.busy": "2021-10-07T06:34:02.295174Z",
     "iopub.status.idle": "2021-10-07T06:34:02.569720Z",
     "shell.execute_reply": "2021-10-07T06:34:02.569185Z",
     "shell.execute_reply.started": "2021-10-04T07:14:37.584029Z"
    },
    "papermill": {
     "duration": 0.31113,
     "end_time": "2021-10-07T06:34:02.569872",
     "exception": false,
     "start_time": "2021-10-07T06:34:02.258742",
     "status": "completed"
    },
    "tags": []
   },
   "outputs": [
    {
     "data": {
      "image/png": "[encoded data removed]",
      "text/plain": [
       "<Figure size 1008x288 with 2 Axes>"
      ]
     },
     "metadata": {
      "needs_background": "light"
     },
     "output_type": "display_data"
    }
   ],
   "source": [
    "logs = pd.DataFrame(history.history)\n",
    "\n",
    "plt.figure(figsize=(14, 4))\n",
    "plt.subplot(1, 2, 1)\n",
    "plt.plot(logs.loc[5:,\"loss\"], lw=2, label='training loss')\n",
    "plt.plot(logs.loc[5:,\"val_loss\"], lw=2, label='validation loss')\n",
    "plt.xlabel(\"Epoch\")\n",
    "plt.ylabel(\"Loss\")\n",
    "plt.legend()\n",
    "plt.subplot(1, 2, 2)\n",
    "plt.plot(logs.loc[5:,\"auc\"], lw=2, label='training ROC AUC score')\n",
    "plt.plot(logs.loc[5:,\"val_auc\"], lw=2, label='validation ROC AUC score')\n",
    "plt.xlabel(\"Epoch\")\n",
    "plt.ylabel(\"ROC AUC\")\n",
    "plt.legend(loc='lower right')\n",
    "plt.show()"
   ]
  },
  {
   "cell_type": "markdown",
   "id": "87ec96d4",
   "metadata": {
    "papermill": {
     "duration": 0.028799,
     "end_time": "2021-10-07T06:34:02.627564",
     "exception": false,
     "start_time": "2021-10-07T06:34:02.598765",
     "status": "completed"
    },
    "tags": []
   },
   "source": [
    "we have now finished training our neural network. Now let us use our model on the `test` data to predict the values, when it comes to neural networks the prediction stage is more commonly referred to  as *inference*:"
   ]
  },
  {
   "cell_type": "code",
   "execution_count": 23,
   "id": "19214623",
   "metadata": {
    "execution": {
     "iopub.execute_input": "2021-10-07T06:34:02.689648Z",
     "iopub.status.busy": "2021-10-07T06:34:02.688994Z",
     "iopub.status.idle": "2021-10-07T06:34:04.183511Z",
     "shell.execute_reply": "2021-10-07T06:34:04.184073Z",
     "shell.execute_reply.started": "2021-10-04T07:14:37.917144Z"
    },
    "papermill": {
     "duration": 1.528189,
     "end_time": "2021-10-07T06:34:04.184249",
     "exception": false,
     "start_time": "2021-10-07T06:34:02.656060",
     "status": "completed"
    },
    "tags": []
   },
   "outputs": [],
   "source": [
    "sample['TARGET'] = model.predict(test)"
   ]
  },
  {
   "cell_type": "markdown",
   "id": "1c86fc05",
   "metadata": {
    "papermill": {
     "duration": 0.02863,
     "end_time": "2021-10-07T06:34:04.241984",
     "exception": false,
     "start_time": "2021-10-07T06:34:04.213354",
     "status": "completed"
    },
    "tags": []
   },
   "source": [
    "Now write out a `submission.csv` file for submission to the competition for scoring. The scores for this model are given at the top of this notebook. As a reference point the winning score for this competition had a Private Leaderboard score of `0.82907`."
   ]
  },
  {
   "cell_type": "code",
   "execution_count": 24,
   "id": "0b47a67e",
   "metadata": {
    "execution": {
     "iopub.execute_input": "2021-10-07T06:34:04.302415Z",
     "iopub.status.busy": "2021-10-07T06:34:04.301825Z",
     "iopub.status.idle": "2021-10-07T06:34:04.459272Z",
     "shell.execute_reply": "2021-10-07T06:34:04.458751Z",
     "shell.execute_reply.started": "2021-10-04T07:14:39.653124Z"
    },
    "papermill": {
     "duration": 0.188575,
     "end_time": "2021-10-07T06:34:04.459409",
     "exception": false,
     "start_time": "2021-10-07T06:34:04.270834",
     "status": "completed"
    },
    "tags": []
   },
   "outputs": [],
   "source": [
    "sample.to_csv('submission.csv',index=False)"
   ]
  },
  {
   "cell_type": "markdown",
   "id": "dc2ac878",
   "metadata": {
    "papermill": {
     "duration": 0.032184,
     "end_time": "2021-10-07T06:34:04.523533",
     "exception": false,
     "start_time": "2021-10-07T06:34:04.491349",
     "status": "completed"
    },
    "tags": []
   },
   "source": [
    "# Related reading\n",
    "It is well known that, when it comes to tabular data, neural networks have a difficult time competing with the likes of [XGBoost](https://www.kaggle.com/carlmcbrideellis/very-simple-xgboost-regression). However, progress is constantly being made in that respect, and the following papers make for some very interesting reading\n",
    "* [\"*Neural Oblivious Decision Ensembles for Deep Learning on Tabular Data*\"](https://arxiv.org/pdf/1909.06312.pdf) (2019)\n",
    "* [\"*TabNet: Attentive Interpretable Tabular Learning*\"](https://arxiv.org/pdf/1908.07442.pdf) (2020)\n",
    "* [\"*Tabular Data: Deep Learning is Not All You Need*\"](https://arxiv.org/pdf/2106.03253.pdf) (2021)\n",
    "* [\"*Regularization is all you Need: Simple Neural Nets can Excel on Tabular Data*\"](https://arxiv.org/pdf/2106.11189.pdf) (2021)\n",
    "* [\"*Deep Neural Networks and Tabular Data: A Survey*\"](https://arxiv.org/pdf/2110.01889.pdf) (2021)"
   ]
  }
 ],
 "metadata": {
  "kernelspec": {
   "display_name": "Python 3",
   "language": "python",
   "name": "python3"
  },
  "language_info": {
   "codemirror_mode": {
    "name": "ipython",
    "version": 3
   },
   "file_extension": ".py",
   "mimetype": "text/x-python",
   "name": "python",
   "nbconvert_exporter": "python",
   "pygments_lexer": "ipython3",
   "version": "3.7.10"
  },
  "papermill": {
   "default_parameters": {},
   "duration": 289.862946,
   "end_time": "2021-10-07T06:34:06.857581",
   "environment_variables": {},
   "exception": null,
   "input_path": "__notebook__.ipynb",
   "output_path": "__notebook__.ipynb",
   "parameters": {},
   "start_time": "2021-10-07T06:29:16.994635",
   "version": "2.3.3"
  }
 },
 "nbformat": 4,
 "nbformat_minor": 5
}
